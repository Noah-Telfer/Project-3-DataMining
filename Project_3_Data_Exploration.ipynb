{
 "cells": [
  {
   "cell_type": "code",
   "execution_count": 6,
   "id": "c5e62e5b",
   "metadata": {},
   "outputs": [],
   "source": [
    "import os \n",
    "import numpy as np\n",
    "import pandas as pd\n",
    "import seaborn as sns\n",
    "import glob\n",
    "from matplotlib import pyplot as plt\n",
    "from sklearn.pipeline import Pipeline\n",
    "from sklearn.linear_model import SGDRegressor, Ridge, LinearRegression\n",
    "from sklearn.metrics import mean_squared_error, r2_score, mean_absolute_error\n",
    "from sklearn.preprocessing import StandardScaler, PolynomialFeatures\n",
    "from sklearn.decomposition import PCA\n",
    "from sklearn.preprocessing import StandardScaler\n",
    "from sklearn import preprocessing\n",
    "from sklearn.linear_model import  Ridge, LinearRegression"
   ]
  },
  {
   "cell_type": "code",
   "execution_count": 3,
   "id": "28993a41",
   "metadata": {},
   "outputs": [],
   "source": [
    "def catToUseful(df):\n",
    "    newDf = df\n",
    "    col = df.columns.tolist()\n",
    "    types = df.dtypes\n",
    "    for i in range(len(col)):\n",
    "\n",
    "        if types[i] == 'object' or types[i] == 'str':\n",
    "            newDf[col[i]] = df[col[i]].astype('category').cat.codes\n",
    "        else: \n",
    "            newDf[col[i]] = df[col[i]]\n",
    "    return newDf"
   ]
  },
  {
   "cell_type": "code",
   "execution_count": 4,
   "id": "2fc07eff",
   "metadata": {},
   "outputs": [],
   "source": [
    "def dropUnCorr(df, compareCol, threshold):\n",
    "    new_df = df.drop(compareCol, 1)\n",
    "    droppedcol = []\n",
    "    correlation = new_df.corrwith(df[compareCol])\n",
    "    correlation = correlation.abs().mul(100)\n",
    "    tempList = list(new_df.columns)\n",
    "    for i in range(len(correlation)):\n",
    "        if correlation[i] < threshold:\n",
    "            droppedcol.append(tempList[i])\n",
    "            del df[tempList[i]]\n",
    "             \n",
    "    return [df,correlation,droppedcol]"
   ]
  },
  {
   "cell_type": "code",
   "execution_count": 5,
   "id": "bb4a9287",
   "metadata": {},
   "outputs": [],
   "source": [
    "wdir = r'C:\\Users\\noaht\\Documents\\Data_Mining\\Project 3\\Data'\n",
    "os.chdir(wdir)\n",
    "train_df = pd.read_csv(wdir + r'\\train_df.csv')\n",
    "test_df = pd.read_csv(wdir + r'\\test_df.csv')\n",
    "trainFin = pd.read_csv(wdir + r'\\trainReady.csv')\n",
    "testFin = pd.read_csv(wdir + r'\\testReady.csv')"
   ]
  },
  {
   "cell_type": "code",
   "execution_count": 5,
   "id": "f421d830",
   "metadata": {
    "scrolled": true
   },
   "outputs": [
    {
     "data": {
      "text/html": [
       "<div>\n",
       "<style scoped>\n",
       "    .dataframe tbody tr th:only-of-type {\n",
       "        vertical-align: middle;\n",
       "    }\n",
       "\n",
       "    .dataframe tbody tr th {\n",
       "        vertical-align: top;\n",
       "    }\n",
       "\n",
       "    .dataframe thead th {\n",
       "        text-align: right;\n",
       "    }\n",
       "</style>\n",
       "<table border=\"1\" class=\"dataframe\">\n",
       "  <thead>\n",
       "    <tr style=\"text-align: right;\">\n",
       "      <th></th>\n",
       "      <th>Id</th>\n",
       "      <th>MSSubClass</th>\n",
       "      <th>MSZoning</th>\n",
       "      <th>LotFrontage</th>\n",
       "      <th>LotArea</th>\n",
       "      <th>Street</th>\n",
       "      <th>Alley</th>\n",
       "      <th>LotShape</th>\n",
       "      <th>LandContour</th>\n",
       "      <th>Utilities</th>\n",
       "      <th>...</th>\n",
       "      <th>PoolArea</th>\n",
       "      <th>PoolQC</th>\n",
       "      <th>Fence</th>\n",
       "      <th>MiscFeature</th>\n",
       "      <th>MiscVal</th>\n",
       "      <th>MoSold</th>\n",
       "      <th>YrSold</th>\n",
       "      <th>SaleType</th>\n",
       "      <th>SaleCondition</th>\n",
       "      <th>SalePrice</th>\n",
       "    </tr>\n",
       "  </thead>\n",
       "  <tbody>\n",
       "    <tr>\n",
       "      <th>0</th>\n",
       "      <td>1</td>\n",
       "      <td>60</td>\n",
       "      <td>3</td>\n",
       "      <td>65.0</td>\n",
       "      <td>8450</td>\n",
       "      <td>1</td>\n",
       "      <td>1</td>\n",
       "      <td>3</td>\n",
       "      <td>3</td>\n",
       "      <td>0</td>\n",
       "      <td>...</td>\n",
       "      <td>0</td>\n",
       "      <td>3</td>\n",
       "      <td>4</td>\n",
       "      <td>1</td>\n",
       "      <td>0</td>\n",
       "      <td>2</td>\n",
       "      <td>2008</td>\n",
       "      <td>8</td>\n",
       "      <td>4</td>\n",
       "      <td>208500</td>\n",
       "    </tr>\n",
       "    <tr>\n",
       "      <th>1</th>\n",
       "      <td>2</td>\n",
       "      <td>20</td>\n",
       "      <td>3</td>\n",
       "      <td>80.0</td>\n",
       "      <td>9600</td>\n",
       "      <td>1</td>\n",
       "      <td>1</td>\n",
       "      <td>3</td>\n",
       "      <td>3</td>\n",
       "      <td>0</td>\n",
       "      <td>...</td>\n",
       "      <td>0</td>\n",
       "      <td>3</td>\n",
       "      <td>4</td>\n",
       "      <td>1</td>\n",
       "      <td>0</td>\n",
       "      <td>5</td>\n",
       "      <td>2007</td>\n",
       "      <td>8</td>\n",
       "      <td>4</td>\n",
       "      <td>181500</td>\n",
       "    </tr>\n",
       "    <tr>\n",
       "      <th>2</th>\n",
       "      <td>3</td>\n",
       "      <td>60</td>\n",
       "      <td>3</td>\n",
       "      <td>68.0</td>\n",
       "      <td>11250</td>\n",
       "      <td>1</td>\n",
       "      <td>1</td>\n",
       "      <td>0</td>\n",
       "      <td>3</td>\n",
       "      <td>0</td>\n",
       "      <td>...</td>\n",
       "      <td>0</td>\n",
       "      <td>3</td>\n",
       "      <td>4</td>\n",
       "      <td>1</td>\n",
       "      <td>0</td>\n",
       "      <td>9</td>\n",
       "      <td>2008</td>\n",
       "      <td>8</td>\n",
       "      <td>4</td>\n",
       "      <td>223500</td>\n",
       "    </tr>\n",
       "    <tr>\n",
       "      <th>3</th>\n",
       "      <td>4</td>\n",
       "      <td>70</td>\n",
       "      <td>3</td>\n",
       "      <td>60.0</td>\n",
       "      <td>9550</td>\n",
       "      <td>1</td>\n",
       "      <td>1</td>\n",
       "      <td>0</td>\n",
       "      <td>3</td>\n",
       "      <td>0</td>\n",
       "      <td>...</td>\n",
       "      <td>0</td>\n",
       "      <td>3</td>\n",
       "      <td>4</td>\n",
       "      <td>1</td>\n",
       "      <td>0</td>\n",
       "      <td>2</td>\n",
       "      <td>2006</td>\n",
       "      <td>8</td>\n",
       "      <td>0</td>\n",
       "      <td>140000</td>\n",
       "    </tr>\n",
       "    <tr>\n",
       "      <th>4</th>\n",
       "      <td>5</td>\n",
       "      <td>60</td>\n",
       "      <td>3</td>\n",
       "      <td>84.0</td>\n",
       "      <td>14260</td>\n",
       "      <td>1</td>\n",
       "      <td>1</td>\n",
       "      <td>0</td>\n",
       "      <td>3</td>\n",
       "      <td>0</td>\n",
       "      <td>...</td>\n",
       "      <td>0</td>\n",
       "      <td>3</td>\n",
       "      <td>4</td>\n",
       "      <td>1</td>\n",
       "      <td>0</td>\n",
       "      <td>12</td>\n",
       "      <td>2008</td>\n",
       "      <td>8</td>\n",
       "      <td>4</td>\n",
       "      <td>250000</td>\n",
       "    </tr>\n",
       "  </tbody>\n",
       "</table>\n",
       "<p>5 rows × 81 columns</p>\n",
       "</div>"
      ],
      "text/plain": [
       "   Id  MSSubClass  MSZoning  LotFrontage  LotArea  Street  Alley  LotShape  \\\n",
       "0   1          60         3         65.0     8450       1      1         3   \n",
       "1   2          20         3         80.0     9600       1      1         3   \n",
       "2   3          60         3         68.0    11250       1      1         0   \n",
       "3   4          70         3         60.0     9550       1      1         0   \n",
       "4   5          60         3         84.0    14260       1      1         0   \n",
       "\n",
       "   LandContour  Utilities  ...  PoolArea  PoolQC  Fence  MiscFeature  MiscVal  \\\n",
       "0            3          0  ...         0       3      4            1        0   \n",
       "1            3          0  ...         0       3      4            1        0   \n",
       "2            3          0  ...         0       3      4            1        0   \n",
       "3            3          0  ...         0       3      4            1        0   \n",
       "4            3          0  ...         0       3      4            1        0   \n",
       "\n",
       "   MoSold  YrSold  SaleType  SaleCondition  SalePrice  \n",
       "0       2    2008         8              4     208500  \n",
       "1       5    2007         8              4     181500  \n",
       "2       9    2008         8              4     223500  \n",
       "3       2    2006         8              0     140000  \n",
       "4      12    2008         8              4     250000  \n",
       "\n",
       "[5 rows x 81 columns]"
      ]
     },
     "execution_count": 5,
     "metadata": {},
     "output_type": "execute_result"
    }
   ],
   "source": [
    "trainFin.head()"
   ]
  },
  {
   "cell_type": "code",
   "execution_count": 6,
   "id": "04a15d69",
   "metadata": {
    "scrolled": false
   },
   "outputs": [
    {
     "data": {
      "text/html": [
       "<div>\n",
       "<style scoped>\n",
       "    .dataframe tbody tr th:only-of-type {\n",
       "        vertical-align: middle;\n",
       "    }\n",
       "\n",
       "    .dataframe tbody tr th {\n",
       "        vertical-align: top;\n",
       "    }\n",
       "\n",
       "    .dataframe thead th {\n",
       "        text-align: right;\n",
       "    }\n",
       "</style>\n",
       "<table border=\"1\" class=\"dataframe\">\n",
       "  <thead>\n",
       "    <tr style=\"text-align: right;\">\n",
       "      <th></th>\n",
       "      <th>Id</th>\n",
       "      <th>MSSubClass</th>\n",
       "      <th>MSZoning</th>\n",
       "      <th>LotFrontage</th>\n",
       "      <th>LotArea</th>\n",
       "      <th>Street</th>\n",
       "      <th>Alley</th>\n",
       "      <th>LotShape</th>\n",
       "      <th>LandContour</th>\n",
       "      <th>Utilities</th>\n",
       "      <th>...</th>\n",
       "      <th>PoolArea</th>\n",
       "      <th>PoolQC</th>\n",
       "      <th>Fence</th>\n",
       "      <th>MiscFeature</th>\n",
       "      <th>MiscVal</th>\n",
       "      <th>MoSold</th>\n",
       "      <th>YrSold</th>\n",
       "      <th>SaleType</th>\n",
       "      <th>SaleCondition</th>\n",
       "      <th>SalePrice</th>\n",
       "    </tr>\n",
       "  </thead>\n",
       "  <tbody>\n",
       "    <tr>\n",
       "      <th>0</th>\n",
       "      <td>1</td>\n",
       "      <td>60</td>\n",
       "      <td>3</td>\n",
       "      <td>65.0</td>\n",
       "      <td>8450</td>\n",
       "      <td>1</td>\n",
       "      <td>1</td>\n",
       "      <td>3</td>\n",
       "      <td>3</td>\n",
       "      <td>0</td>\n",
       "      <td>...</td>\n",
       "      <td>0</td>\n",
       "      <td>3</td>\n",
       "      <td>4</td>\n",
       "      <td>1</td>\n",
       "      <td>0</td>\n",
       "      <td>2</td>\n",
       "      <td>2008</td>\n",
       "      <td>8</td>\n",
       "      <td>4</td>\n",
       "      <td>208500</td>\n",
       "    </tr>\n",
       "    <tr>\n",
       "      <th>1</th>\n",
       "      <td>2</td>\n",
       "      <td>20</td>\n",
       "      <td>3</td>\n",
       "      <td>80.0</td>\n",
       "      <td>9600</td>\n",
       "      <td>1</td>\n",
       "      <td>1</td>\n",
       "      <td>3</td>\n",
       "      <td>3</td>\n",
       "      <td>0</td>\n",
       "      <td>...</td>\n",
       "      <td>0</td>\n",
       "      <td>3</td>\n",
       "      <td>4</td>\n",
       "      <td>1</td>\n",
       "      <td>0</td>\n",
       "      <td>5</td>\n",
       "      <td>2007</td>\n",
       "      <td>8</td>\n",
       "      <td>4</td>\n",
       "      <td>181500</td>\n",
       "    </tr>\n",
       "    <tr>\n",
       "      <th>2</th>\n",
       "      <td>3</td>\n",
       "      <td>60</td>\n",
       "      <td>3</td>\n",
       "      <td>68.0</td>\n",
       "      <td>11250</td>\n",
       "      <td>1</td>\n",
       "      <td>1</td>\n",
       "      <td>0</td>\n",
       "      <td>3</td>\n",
       "      <td>0</td>\n",
       "      <td>...</td>\n",
       "      <td>0</td>\n",
       "      <td>3</td>\n",
       "      <td>4</td>\n",
       "      <td>1</td>\n",
       "      <td>0</td>\n",
       "      <td>9</td>\n",
       "      <td>2008</td>\n",
       "      <td>8</td>\n",
       "      <td>4</td>\n",
       "      <td>223500</td>\n",
       "    </tr>\n",
       "    <tr>\n",
       "      <th>3</th>\n",
       "      <td>4</td>\n",
       "      <td>70</td>\n",
       "      <td>3</td>\n",
       "      <td>60.0</td>\n",
       "      <td>9550</td>\n",
       "      <td>1</td>\n",
       "      <td>1</td>\n",
       "      <td>0</td>\n",
       "      <td>3</td>\n",
       "      <td>0</td>\n",
       "      <td>...</td>\n",
       "      <td>0</td>\n",
       "      <td>3</td>\n",
       "      <td>4</td>\n",
       "      <td>1</td>\n",
       "      <td>0</td>\n",
       "      <td>2</td>\n",
       "      <td>2006</td>\n",
       "      <td>8</td>\n",
       "      <td>0</td>\n",
       "      <td>140000</td>\n",
       "    </tr>\n",
       "    <tr>\n",
       "      <th>4</th>\n",
       "      <td>5</td>\n",
       "      <td>60</td>\n",
       "      <td>3</td>\n",
       "      <td>84.0</td>\n",
       "      <td>14260</td>\n",
       "      <td>1</td>\n",
       "      <td>1</td>\n",
       "      <td>0</td>\n",
       "      <td>3</td>\n",
       "      <td>0</td>\n",
       "      <td>...</td>\n",
       "      <td>0</td>\n",
       "      <td>3</td>\n",
       "      <td>4</td>\n",
       "      <td>1</td>\n",
       "      <td>0</td>\n",
       "      <td>12</td>\n",
       "      <td>2008</td>\n",
       "      <td>8</td>\n",
       "      <td>4</td>\n",
       "      <td>250000</td>\n",
       "    </tr>\n",
       "  </tbody>\n",
       "</table>\n",
       "<p>5 rows × 81 columns</p>\n",
       "</div>"
      ],
      "text/plain": [
       "   Id  MSSubClass  MSZoning  LotFrontage  LotArea  Street  Alley  LotShape  \\\n",
       "0   1          60         3         65.0     8450       1      1         3   \n",
       "1   2          20         3         80.0     9600       1      1         3   \n",
       "2   3          60         3         68.0    11250       1      1         0   \n",
       "3   4          70         3         60.0     9550       1      1         0   \n",
       "4   5          60         3         84.0    14260       1      1         0   \n",
       "\n",
       "   LandContour  Utilities  ...  PoolArea  PoolQC  Fence  MiscFeature  MiscVal  \\\n",
       "0            3          0  ...         0       3      4            1        0   \n",
       "1            3          0  ...         0       3      4            1        0   \n",
       "2            3          0  ...         0       3      4            1        0   \n",
       "3            3          0  ...         0       3      4            1        0   \n",
       "4            3          0  ...         0       3      4            1        0   \n",
       "\n",
       "   MoSold  YrSold  SaleType  SaleCondition  SalePrice  \n",
       "0       2    2008         8              4     208500  \n",
       "1       5    2007         8              4     181500  \n",
       "2       9    2008         8              4     223500  \n",
       "3       2    2006         8              0     140000  \n",
       "4      12    2008         8              4     250000  \n",
       "\n",
       "[5 rows x 81 columns]"
      ]
     },
     "execution_count": 6,
     "metadata": {},
     "output_type": "execute_result"
    }
   ],
   "source": [
    "trainFin.head()"
   ]
  },
  {
   "cell_type": "code",
   "execution_count": 7,
   "id": "d631c2df",
   "metadata": {},
   "outputs": [
    {
     "data": {
      "text/plain": [
       "(1459, 80)"
      ]
     },
     "execution_count": 7,
     "metadata": {},
     "output_type": "execute_result"
    }
   ],
   "source": [
    "testFin.shape"
   ]
  },
  {
   "cell_type": "code",
   "execution_count": 8,
   "id": "74a31483",
   "metadata": {},
   "outputs": [],
   "source": [
    "X_train = trainFin.loc[:, trainFin.columns!='SalePrice']\n",
    "Y_train = trainFin['SalePrice']\n",
    "X_test = catToUseful(testFin)"
   ]
  },
  {
   "cell_type": "code",
   "execution_count": 9,
   "id": "f38678e1",
   "metadata": {
    "scrolled": true
   },
   "outputs": [],
   "source": [
    "SGDRegressor_pipe = Pipeline([\n",
    "    ('StandardScaler', StandardScaler()),\n",
    "    ('SGDRegressor', SGDRegressor())\n",
    "]).fit(X_train, Y_train)\n",
    "\n",
    "sgd_y_pred = SGDRegressor_pipe.predict(X_test)"
   ]
  },
  {
   "cell_type": "code",
   "execution_count": 10,
   "id": "8a63da37",
   "metadata": {},
   "outputs": [],
   "source": [
    "firstPred = pd.DataFrame()\n",
    "firstPred['Id'] = X_test['Id']\n",
    "firstPred['SalePrice'] = sgd_y_pred"
   ]
  },
  {
   "cell_type": "code",
   "execution_count": 11,
   "id": "93b89e99",
   "metadata": {},
   "outputs": [],
   "source": [
    "firstPred.to_csv('First_Prediction.csv', index = False)"
   ]
  },
  {
   "cell_type": "markdown",
   "id": "a9d7b4a4",
   "metadata": {},
   "source": [
    "# Result of First Experiment 0.50813 \"oof\"\n"
   ]
  },
  {
   "cell_type": "markdown",
   "id": "feca872c",
   "metadata": {},
   "source": [
    "# Second Experiment \n",
    "   Steps to be taken, \n",
    "   Cross coralate, \n",
    "   Dummy variables,\n",
    "   normilization\n",
    "   "
   ]
  },
  {
   "cell_type": "code",
   "execution_count": 12,
   "id": "1a375b2b",
   "metadata": {},
   "outputs": [
    {
     "name": "stderr",
     "output_type": "stream",
     "text": [
      "C:\\Users\\noaht\\AppData\\Local\\Temp/ipykernel_12364/2980171881.py:1: FutureWarning: In a future version of pandas all arguments of DataFrame.drop except for the argument 'labels' will be keyword-only\n",
      "  Correlation = trainFin.drop('SalePrice', 1).corrwith(trainFin.SalePrice)\n"
     ]
    }
   ],
   "source": [
    "Correlation = trainFin.drop('SalePrice', 1).corrwith(trainFin.SalePrice)\n",
    "Correlation = Correlation.abs().mul(100)\n",
    "dope = list(trainFin.columns)"
   ]
  },
  {
   "cell_type": "code",
   "execution_count": 13,
   "id": "ed7b2b00",
   "metadata": {},
   "outputs": [
    {
     "name": "stderr",
     "output_type": "stream",
     "text": [
      "C:\\Users\\noaht\\AppData\\Local\\Temp/ipykernel_12364/108596373.py:2: FutureWarning: In a future version of pandas all arguments of DataFrame.drop except for the argument 'labels' will be keyword-only\n",
      "  new_df = df.drop(compareCol, 1)\n"
     ]
    }
   ],
   "source": [
    "cool = trainFin.copy()\n",
    "x = dropUnCorr(cool,'SalePrice', 10)"
   ]
  },
  {
   "cell_type": "code",
   "execution_count": 14,
   "id": "c3df310b",
   "metadata": {},
   "outputs": [
    {
     "data": {
      "text/plain": [
       "((1460, 53), (1460, 81))"
      ]
     },
     "execution_count": 14,
     "metadata": {},
     "output_type": "execute_result"
    }
   ],
   "source": [
    "x[0].shape, trainFin.shape"
   ]
  },
  {
   "cell_type": "markdown",
   "id": "e5e14388",
   "metadata": {},
   "source": [
    "### Plot Correlated data "
   ]
  },
  {
   "cell_type": "code",
   "execution_count": 15,
   "id": "f6a6c774",
   "metadata": {},
   "outputs": [
    {
     "name": "stderr",
     "output_type": "stream",
     "text": [
      "C:\\Users\\noaht\\AppData\\Local\\Temp/ipykernel_12364/3421323952.py:1: FutureWarning: In a future version of pandas all arguments of DataFrame.drop except for the argument 'labels' will be keyword-only\n",
      "  data = {'Data': trainFin.drop('SalePrice',1).columns.tolist(), 'Correlation': list(x[1])}\n"
     ]
    }
   ],
   "source": [
    "data = {'Data': trainFin.drop('SalePrice',1).columns.tolist(), 'Correlation': list(x[1])}\n",
    "CorrData = pd.DataFrame(data)"
   ]
  },
  {
   "cell_type": "code",
   "execution_count": 16,
   "id": "c62fb9cd",
   "metadata": {},
   "outputs": [
    {
     "data": {
      "image/png": "[encoded data removed]",
      "text/plain": [
       "<Figure size 432x288 with 1 Axes>"
      ]
     },
     "metadata": {
      "needs_background": "light"
     },
     "output_type": "display_data"
    }
   ],
   "source": [
    "ax = sns.barplot(x = 'Data', y = 'Correlation', data = CorrData, palette=\"ch:s=.25,rot=-.25\")\n",
    "ax.set_xticklabels(ax.get_xticklabels(), rotation=90)\n",
    "ax.set(title='Correlation Graph', xlabel='Data')\n",
    "sns.set(rc={\"figure.figsize\":(20,15)}) \n",
    "#try: \n",
    "#    fig = ax.get_figure()\n",
    "#    fig.savefig( 'Correlation' + '.png')\n",
    "#except:\n",
    "#    print(\"error could not save file column:  \")"
   ]
  },
  {
   "cell_type": "code",
   "execution_count": 17,
   "id": "5a915eda",
   "metadata": {},
   "outputs": [],
   "source": [
    "\n",
    "#testDf = pd.read_csv(wdir + r'\\train_noNull.csv')\n",
    "#testDf.head()\n"
   ]
  },
  {
   "cell_type": "code",
   "execution_count": 18,
   "id": "538f9012",
   "metadata": {},
   "outputs": [],
   "source": [
    "# Create Dummy Variables for catagroical data\n",
    "#catData = ['Id','SalePrice', 'BsmtFinSF2', 'TotalBsmtSF', 'LotFrontage', 'LotArea', 'YearBuilt', 'YearRemodAdd', 'MasVnrArea','BsmtFinSF1', 'BsmtUnfSF', '1stFlrSF', '2ndFlrSF', 'LowQualFinSF', 'GrLivArea', 'BsmtFullBath', 'BsmtHalfBath', 'FullBath', 'HalfBath', 'BedroomAbvGr', 'KitchenAbvGr', 'TotRmsAbvGrd', 'Fireplaces','GarageYrBlt', 'GarageCars', 'GarageArea', 'WoodDeckSF', 'OpenPorchSF', 'EnclosedPorch' , '3SsnPorch', 'ScreenPorch', 'PoolArea', 'MiscVal', 'MoSold', 'YrSold']\n",
    "#testDf1 = testDf.drop(catData, 1)\n",
    "#catCol = testDf.drop(catData, 1).columns\n",
    "#cool = ['MSSubClass', 'OverallQual', 'OverallCond']\n",
    "#testDf1[cool] = testDf1[cool].astype(str)\n",
    "#testDf1.dtypes\n",
    "#testDf1 = pd.get_dummies(testDf1).head()"
   ]
  },
  {
   "cell_type": "code",
   "execution_count": 19,
   "id": "44b5fb47",
   "metadata": {},
   "outputs": [],
   "source": [
    "def dummyForYear(df, col): \n",
    "    for index, row in df.iterrows():\n",
    "        if df.loc[index, col] <= 1949 and df.loc[index, col] > 0 :\n",
    "            df.loc[index, col] = \"_1949\"\n",
    "        elif df.loc[index, col] >= 1950 and df.loc[index, col]  <= 1959 :\n",
    "            df.loc[index, col] = '1950_1959'\n",
    "        elif df.loc[index, col] >= 1960 and df.loc[index, col] <= 1969:\n",
    "            df.loc[index, col] = '1960_1969'\n",
    "        elif df.loc[index, col] >= 1970 and df.loc[index, col]  <= 1979:\n",
    "            df.loc[index,col] = '1970_1979'\n",
    "        elif df.loc[index, col]  >= 1980 and df.loc[index, col]  <= 1989:\n",
    "            df.loc[index, col]  = '1980_1989'\n",
    "        elif df.loc[index, col]  >= 1990 and df.loc[index, col] <= 1999:\n",
    "            df.loc[index, col]  = '1990_1999'\n",
    "        elif df.loc[index, col] >= 2000 and df.loc[index, col]  <= 2009:\n",
    "            df.loc[index, col]  = '2000_2009'\n",
    "        elif df.loc[index, col]  >= 2010:\n",
    "            df.loc[index, col]  = '2010_2019'\n",
    "    return df"
   ]
  },
  {
   "cell_type": "code",
   "execution_count": 20,
   "id": "b8b5b720",
   "metadata": {},
   "outputs": [
    {
     "data": {
      "text/plain": [
       "(1459, 80)"
      ]
     },
     "execution_count": 20,
     "metadata": {},
     "output_type": "execute_result"
    }
   ],
   "source": [
    "testFin.shape"
   ]
  },
  {
   "cell_type": "code",
   "execution_count": 21,
   "id": "9ece2234",
   "metadata": {},
   "outputs": [
    {
     "data": {
      "text/plain": [
       "(1459, 52)"
      ]
     },
     "execution_count": 21,
     "metadata": {},
     "output_type": "execute_result"
    }
   ],
   "source": [
    "#f_df = x[0]\n",
    "tempVAR = x[2]\n",
    "f_df = testFin\n",
    "for i in range(len(tempVAR)):\n",
    "    del f_df[tempVAR[i]]\n",
    "\n",
    "f_df.shape"
   ]
  },
  {
   "cell_type": "code",
   "execution_count": 22,
   "id": "2147c6d6",
   "metadata": {},
   "outputs": [],
   "source": [
    "yearCol = ['YearBuilt', 'YearRemodAdd', 'GarageYrBlt']\n",
    "for columnY in yearCol: \n",
    "    f_df = dummyForYear(f_df,columnY)\n"
   ]
  },
  {
   "cell_type": "code",
   "execution_count": 23,
   "id": "4fbd6bc2",
   "metadata": {},
   "outputs": [
    {
     "name": "stdout",
     "output_type": "stream",
     "text": [
      "(1459, 30)\n",
      "(1459, 30)\n"
     ]
    },
    {
     "name": "stderr",
     "output_type": "stream",
     "text": [
      "C:\\Users\\noaht\\AppData\\Local\\Temp/ipykernel_12364/3919648097.py:5: FutureWarning: In a future version of pandas all arguments of DataFrame.drop except for the argument 'labels' will be keyword-only\n",
      "  testDf1 = f_df.drop(catData, 1)\n",
      "C:\\Users\\noaht\\AppData\\Local\\Temp/ipykernel_12364/3919648097.py:7: FutureWarning: In a future version of pandas all arguments of DataFrame.drop except for the argument 'labels' will be keyword-only\n",
      "  catCol = f_df.drop(catData, 1).columns\n"
     ]
    }
   ],
   "source": [
    "#Create Dummy Variables for catagroical data\n",
    "#catData = ['SalePrice',  'TotalBsmtSF', 'LotFrontage', 'LotArea', 'MasVnrArea','BsmtFinSF1', 'BsmtUnfSF', '1stFlrSF', '2ndFlrSF',  'GrLivArea', 'BsmtFullBath', 'FullBath', 'HalfBath', 'BedroomAbvGr', 'KitchenAbvGr', 'TotRmsAbvGrd', 'Fireplaces', 'GarageCars', 'GarageArea', 'WoodDeckSF', 'OpenPorchSF', 'EnclosedPorch' , 'ScreenPorch']\n",
    "catData = [  'TotalBsmtSF', 'LotFrontage', 'LotArea', 'MasVnrArea','BsmtFinSF1', 'BsmtUnfSF', '1stFlrSF', '2ndFlrSF',  'GrLivArea', 'BsmtFullBath', 'FullBath', 'HalfBath', 'BedroomAbvGr', 'KitchenAbvGr', 'TotRmsAbvGrd', 'Fireplaces', 'GarageCars', 'GarageArea', 'WoodDeckSF', 'OpenPorchSF', 'EnclosedPorch' , 'ScreenPorch']\n",
    "\n",
    "testDf1 = f_df.drop(catData, 1)\n",
    "print(testDf1.shape)\n",
    "catCol = f_df.drop(catData, 1).columns\n",
    "testDf1[catCol] = testDf1[catCol].astype(str)\n",
    "testDf1.dtypes\n",
    "print(testDf1.shape)\n",
    "testDf1.head()\n",
    "testDf1 = pd.get_dummies(testDf1)"
   ]
  },
  {
   "cell_type": "markdown",
   "id": "4d881ca5",
   "metadata": {},
   "source": [
    "### Normilize continous variables"
   ]
  },
  {
   "cell_type": "code",
   "execution_count": 24,
   "id": "85d12135",
   "metadata": {
    "scrolled": true
   },
   "outputs": [
    {
     "data": {
      "text/plain": [
       "((1459, 22),\n",
       "    TotalBsmtSF  LotFrontage   LotArea  MasVnrArea  BsmtFinSF1  BsmtUnfSF  \\\n",
       " 0     0.173111        0.400  0.184147    0.000000    0.116708   0.126168   \n",
       " 1     0.260844        0.405  0.232124    0.083721    0.230175   0.189720   \n",
       " 2     0.182139        0.370  0.224197    0.000000    0.197257   0.064019   \n",
       " 3     0.181747        0.390  0.154326    0.015504    0.150125   0.151402   \n",
       " 4     0.251227        0.215  0.064121    0.000000    0.065586   0.475234   \n",
       " \n",
       "    1stFlrSF  2ndFlrSF  GrLivArea  BsmtFullBath  ...  BedroomAbvGr  \\\n",
       " 0  0.104309  0.000000   0.104309           0.0  ...      0.333333   \n",
       " 1  0.196672  0.000000   0.196672           0.0  ...      0.500000   \n",
       " 2  0.111135  0.376477   0.260666           0.0  ...      0.500000   \n",
       " 3  0.110708  0.364125   0.255333           0.0  ...      0.500000   \n",
       " 4  0.186220  0.000000   0.186220           0.0  ...      0.333333   \n",
       " \n",
       "    KitchenAbvGr  TotRmsAbvGrd  Fireplaces  GarageCars  GarageArea  WoodDeckSF  \\\n",
       " 0           0.5      0.166667        0.00         0.2    0.490591    0.098315   \n",
       " 1           0.5      0.250000        0.00         0.2    0.209677    0.275983   \n",
       " 2           0.5      0.250000        0.25         0.4    0.323925    0.148876   \n",
       " 3           0.5      0.333333        0.25         0.4    0.315860    0.252809   \n",
       " 4           0.5      0.166667        0.00         0.4    0.340054    0.000000   \n",
       " \n",
       "    OpenPorchSF  EnclosedPorch  ScreenPorch  \n",
       " 0     0.000000            0.0     0.208333  \n",
       " 1     0.048518            0.0     0.000000  \n",
       " 2     0.045822            0.0     0.000000  \n",
       " 3     0.048518            0.0     0.000000  \n",
       " 4     0.110512            0.0     0.250000  \n",
       " \n",
       " [5 rows x 22 columns])"
      ]
     },
     "execution_count": 24,
     "metadata": {},
     "output_type": "execute_result"
    }
   ],
   "source": [
    "#cont_vars = f_df[catData].drop('SalePrice',1)\n",
    "cont_vars = f_df[catData]\n",
    "scaler = preprocessing.MinMaxScaler()\n",
    "names = cont_vars.columns\n",
    "d = scaler.fit_transform(cont_vars)\n",
    "norm_df = pd.DataFrame(d, columns=names)\n",
    "norm_df.shape, norm_df.head()"
   ]
  },
  {
   "cell_type": "markdown",
   "id": "b89f29c5",
   "metadata": {},
   "source": [
    "### Put the Continous and Catagorial values back together"
   ]
  },
  {
   "cell_type": "code",
   "execution_count": 25,
   "id": "3b23f870",
   "metadata": {},
   "outputs": [
    {
     "data": {
      "text/plain": [
       "(1459, 224)"
      ]
     },
     "execution_count": 25,
     "metadata": {},
     "output_type": "execute_result"
    }
   ],
   "source": [
    "final_trainDf = pd.concat([test_df.Id, norm_df, testDf1], axis = 1)\n",
    "final_trainDf.shape"
   ]
  },
  {
   "cell_type": "code",
   "execution_count": 26,
   "id": "887f2426",
   "metadata": {},
   "outputs": [],
   "source": [
    "#final_trainDf.to_csv('final_trianDf.csv', index = False)\n",
    "#Code above run twice once with the training once with the test set \n",
    "final_trainDf.to_csv('final_testDf.csv', index = False)"
   ]
  },
  {
   "cell_type": "markdown",
   "id": "1a6b943b",
   "metadata": {},
   "source": [
    "# Build Experment 2 model with Refined data "
   ]
  },
  {
   "cell_type": "code",
   "execution_count": 27,
   "id": "29a5a94d",
   "metadata": {},
   "outputs": [],
   "source": [
    "RefinedTrain = pd.read_csv(wdir + r'\\final_trianDf.csv')\n",
    "RefinedTrain['SalePrice'] = train_df['SalePrice']\n",
    "RefinedTest = pd.read_csv(wdir + r'\\final_testDf.csv')"
   ]
  },
  {
   "cell_type": "code",
   "execution_count": 28,
   "id": "17b8adf0",
   "metadata": {},
   "outputs": [],
   "source": [
    "tempy = ['SalePrice', 'Id']\n",
    "X_train1 = RefinedTrain.loc[:, RefinedTrain.drop(tempy, axis = 1).columns ]\n",
    "Y_train1 = RefinedTrain['SalePrice']\n",
    "X_test1 = RefinedTest.drop('Id', axis = 1)"
   ]
  },
  {
   "cell_type": "code",
   "execution_count": 29,
   "id": "6ad6d694",
   "metadata": {
    "scrolled": true
   },
   "outputs": [
    {
     "data": {
      "text/plain": [
       "{'3SsnPorch',\n",
       " 'Alley',\n",
       " 'BldgType',\n",
       " 'BsmtCond',\n",
       " 'BsmtFinSF2',\n",
       " 'BsmtFinType1',\n",
       " 'BsmtFinType2',\n",
       " 'BsmtHalfBath',\n",
       " 'Condition1',\n",
       " 'Condition2',\n",
       " 'FireplaceQu',\n",
       " 'Heating',\n",
       " 'Id',\n",
       " 'LandContour',\n",
       " 'LandSlope',\n",
       " 'LotConfig',\n",
       " 'LowQualFinSF',\n",
       " 'MSSubClass',\n",
       " 'MasVnrType',\n",
       " 'MiscFeature',\n",
       " 'MiscVal',\n",
       " 'MoSold',\n",
       " 'OverallCond',\n",
       " 'PoolArea',\n",
       " 'SaleType',\n",
       " 'Street',\n",
       " 'Utilities',\n",
       " 'YrSold'}"
      ]
     },
     "execution_count": 29,
     "metadata": {},
     "output_type": "execute_result"
    }
   ],
   "source": [
    "  set(X_train.columns.tolist()).symmetric_difference(set(X_test.columns.tolist()))"
   ]
  },
  {
   "cell_type": "code",
   "execution_count": 30,
   "id": "34cf8a28",
   "metadata": {
    "scrolled": true
   },
   "outputs": [
    {
     "data": {
      "text/plain": [
       "['MSSubClass',\n",
       " 'LandContour',\n",
       " 'PoolArea',\n",
       " 'BsmtHalfBath',\n",
       " 'Condition1',\n",
       " '3SsnPorch',\n",
       " 'Alley',\n",
       " 'MiscVal',\n",
       " 'Heating',\n",
       " 'Condition2',\n",
       " 'Id',\n",
       " 'BsmtFinType2',\n",
       " 'Utilities',\n",
       " 'MiscFeature',\n",
       " 'YrSold',\n",
       " 'LowQualFinSF',\n",
       " 'BsmtFinType1',\n",
       " 'SaleType',\n",
       " 'BsmtFinSF2',\n",
       " 'LotConfig',\n",
       " 'BldgType',\n",
       " 'OverallCond',\n",
       " 'FireplaceQu',\n",
       " 'Street',\n",
       " 'LandSlope',\n",
       " 'BsmtCond',\n",
       " 'MoSold',\n",
       " 'MasVnrType']"
      ]
     },
     "execution_count": 30,
     "metadata": {},
     "output_type": "execute_result"
    }
   ],
   "source": [
    "test_missingCol = list(set(X_train.columns.tolist()) - (set(X_test.columns.tolist())))\n",
    "test_missingCol"
   ]
  },
  {
   "cell_type": "code",
   "execution_count": 31,
   "id": "4b5e2df7",
   "metadata": {},
   "outputs": [
    {
     "data": {
      "text/plain": [
       "[]"
      ]
     },
     "execution_count": 31,
     "metadata": {},
     "output_type": "execute_result"
    }
   ],
   "source": [
    "train_missingCol = list((set(X_test.columns.tolist())) - set(X_train.columns.tolist())) \n",
    "train_missingCol "
   ]
  },
  {
   "cell_type": "code",
   "execution_count": 32,
   "id": "a118738d",
   "metadata": {},
   "outputs": [
    {
     "data": {
      "text/plain": [
       "((1460, 232), (1459, 251))"
      ]
     },
     "execution_count": 32,
     "metadata": {},
     "output_type": "execute_result"
    }
   ],
   "source": [
    "X_train1[train_missingCol] = 0\n",
    "X_test1[test_missingCol ]= 0\n",
    "X_train1.shape, X_test1.shape"
   ]
  },
  {
   "cell_type": "code",
   "execution_count": 33,
   "id": "c321486c",
   "metadata": {},
   "outputs": [
    {
     "ename": "ValueError",
     "evalue": "could not convert string to float: '_1949'",
     "output_type": "error",
     "traceback": [
      "\u001b[1;31m---------------------------------------------------------------------------\u001b[0m",
      "\u001b[1;31mValueError\u001b[0m                                Traceback (most recent call last)",
      "\u001b[1;32m~\\AppData\\Local\\Temp/ipykernel_12364/2367790791.py\u001b[0m in \u001b[0;36m<module>\u001b[1;34m\u001b[0m\n\u001b[0;32m      3\u001b[0m ]).fit(X_train1, Y_train1)\n\u001b[0;32m      4\u001b[0m \u001b[1;33m\u001b[0m\u001b[0m\n\u001b[1;32m----> 5\u001b[1;33m \u001b[0msgd_y_pred\u001b[0m \u001b[1;33m=\u001b[0m \u001b[0mSGDRegressor_pipe\u001b[0m\u001b[1;33m.\u001b[0m\u001b[0mpredict\u001b[0m\u001b[1;33m(\u001b[0m\u001b[0mX_test\u001b[0m\u001b[1;33m)\u001b[0m\u001b[1;33m\u001b[0m\u001b[1;33m\u001b[0m\u001b[0m\n\u001b[0m",
      "\u001b[1;32m~\\anaconda3\\lib\\site-packages\\sklearn\\utils\\metaestimators.py\u001b[0m in \u001b[0;36m<lambda>\u001b[1;34m(*args, **kwargs)\u001b[0m\n\u001b[0;32m    118\u001b[0m \u001b[1;33m\u001b[0m\u001b[0m\n\u001b[0;32m    119\u001b[0m         \u001b[1;31m# lambda, but not partial, allows help() to work with update_wrapper\u001b[0m\u001b[1;33m\u001b[0m\u001b[1;33m\u001b[0m\u001b[0m\n\u001b[1;32m--> 120\u001b[1;33m         \u001b[0mout\u001b[0m \u001b[1;33m=\u001b[0m \u001b[1;32mlambda\u001b[0m \u001b[1;33m*\u001b[0m\u001b[0margs\u001b[0m\u001b[1;33m,\u001b[0m \u001b[1;33m**\u001b[0m\u001b[0mkwargs\u001b[0m\u001b[1;33m:\u001b[0m \u001b[0mself\u001b[0m\u001b[1;33m.\u001b[0m\u001b[0mfn\u001b[0m\u001b[1;33m(\u001b[0m\u001b[0mobj\u001b[0m\u001b[1;33m,\u001b[0m \u001b[1;33m*\u001b[0m\u001b[0margs\u001b[0m\u001b[1;33m,\u001b[0m \u001b[1;33m**\u001b[0m\u001b[0mkwargs\u001b[0m\u001b[1;33m)\u001b[0m\u001b[1;33m\u001b[0m\u001b[1;33m\u001b[0m\u001b[0m\n\u001b[0m\u001b[0;32m    121\u001b[0m         \u001b[1;31m# update the docstring of the returned function\u001b[0m\u001b[1;33m\u001b[0m\u001b[1;33m\u001b[0m\u001b[0m\n\u001b[0;32m    122\u001b[0m         \u001b[0mupdate_wrapper\u001b[0m\u001b[1;33m(\u001b[0m\u001b[0mout\u001b[0m\u001b[1;33m,\u001b[0m \u001b[0mself\u001b[0m\u001b[1;33m.\u001b[0m\u001b[0mfn\u001b[0m\u001b[1;33m)\u001b[0m\u001b[1;33m\u001b[0m\u001b[1;33m\u001b[0m\u001b[0m\n",
      "\u001b[1;32m~\\anaconda3\\lib\\site-packages\\sklearn\\pipeline.py\u001b[0m in \u001b[0;36mpredict\u001b[1;34m(self, X, **predict_params)\u001b[0m\n\u001b[0;32m    417\u001b[0m         \u001b[1;32mfor\u001b[0m \u001b[0m_\u001b[0m\u001b[1;33m,\u001b[0m \u001b[0mname\u001b[0m\u001b[1;33m,\u001b[0m \u001b[0mtransform\u001b[0m \u001b[1;32min\u001b[0m \u001b[0mself\u001b[0m\u001b[1;33m.\u001b[0m\u001b[0m_iter\u001b[0m\u001b[1;33m(\u001b[0m\u001b[0mwith_final\u001b[0m\u001b[1;33m=\u001b[0m\u001b[1;32mFalse\u001b[0m\u001b[1;33m)\u001b[0m\u001b[1;33m:\u001b[0m\u001b[1;33m\u001b[0m\u001b[1;33m\u001b[0m\u001b[0m\n\u001b[0;32m    418\u001b[0m             \u001b[0mXt\u001b[0m \u001b[1;33m=\u001b[0m \u001b[0mtransform\u001b[0m\u001b[1;33m.\u001b[0m\u001b[0mtransform\u001b[0m\u001b[1;33m(\u001b[0m\u001b[0mXt\u001b[0m\u001b[1;33m)\u001b[0m\u001b[1;33m\u001b[0m\u001b[1;33m\u001b[0m\u001b[0m\n\u001b[1;32m--> 419\u001b[1;33m         \u001b[1;32mreturn\u001b[0m \u001b[0mself\u001b[0m\u001b[1;33m.\u001b[0m\u001b[0msteps\u001b[0m\u001b[1;33m[\u001b[0m\u001b[1;33m-\u001b[0m\u001b[1;36m1\u001b[0m\u001b[1;33m]\u001b[0m\u001b[1;33m[\u001b[0m\u001b[1;33m-\u001b[0m\u001b[1;36m1\u001b[0m\u001b[1;33m]\u001b[0m\u001b[1;33m.\u001b[0m\u001b[0mpredict\u001b[0m\u001b[1;33m(\u001b[0m\u001b[0mXt\u001b[0m\u001b[1;33m,\u001b[0m \u001b[1;33m**\u001b[0m\u001b[0mpredict_params\u001b[0m\u001b[1;33m)\u001b[0m\u001b[1;33m\u001b[0m\u001b[1;33m\u001b[0m\u001b[0m\n\u001b[0m\u001b[0;32m    420\u001b[0m \u001b[1;33m\u001b[0m\u001b[0m\n\u001b[0;32m    421\u001b[0m     \u001b[1;33m@\u001b[0m\u001b[0mif_delegate_has_method\u001b[0m\u001b[1;33m(\u001b[0m\u001b[0mdelegate\u001b[0m\u001b[1;33m=\u001b[0m\u001b[1;34m'_final_estimator'\u001b[0m\u001b[1;33m)\u001b[0m\u001b[1;33m\u001b[0m\u001b[1;33m\u001b[0m\u001b[0m\n",
      "\u001b[1;32m~\\anaconda3\\lib\\site-packages\\sklearn\\linear_model\\_stochastic_gradient.py\u001b[0m in \u001b[0;36mpredict\u001b[1;34m(self, X)\u001b[0m\n\u001b[0;32m   1293\u001b[0m            \u001b[0mPredicted\u001b[0m \u001b[0mtarget\u001b[0m \u001b[0mvalues\u001b[0m \u001b[0mper\u001b[0m \u001b[0melement\u001b[0m \u001b[1;32min\u001b[0m \u001b[0mX\u001b[0m\u001b[1;33m.\u001b[0m\u001b[1;33m\u001b[0m\u001b[1;33m\u001b[0m\u001b[0m\n\u001b[0;32m   1294\u001b[0m         \"\"\"\n\u001b[1;32m-> 1295\u001b[1;33m         \u001b[1;32mreturn\u001b[0m \u001b[0mself\u001b[0m\u001b[1;33m.\u001b[0m\u001b[0m_decision_function\u001b[0m\u001b[1;33m(\u001b[0m\u001b[0mX\u001b[0m\u001b[1;33m)\u001b[0m\u001b[1;33m\u001b[0m\u001b[1;33m\u001b[0m\u001b[0m\n\u001b[0m\u001b[0;32m   1296\u001b[0m \u001b[1;33m\u001b[0m\u001b[0m\n\u001b[0;32m   1297\u001b[0m     def _fit_regressor(self, X, y, alpha, C, loss, learning_rate,\n",
      "\u001b[1;32m~\\anaconda3\\lib\\site-packages\\sklearn\\linear_model\\_stochastic_gradient.py\u001b[0m in \u001b[0;36m_decision_function\u001b[1;34m(self, X)\u001b[0m\n\u001b[0;32m   1275\u001b[0m         \u001b[0mcheck_is_fitted\u001b[0m\u001b[1;33m(\u001b[0m\u001b[0mself\u001b[0m\u001b[1;33m)\u001b[0m\u001b[1;33m\u001b[0m\u001b[1;33m\u001b[0m\u001b[0m\n\u001b[0;32m   1276\u001b[0m \u001b[1;33m\u001b[0m\u001b[0m\n\u001b[1;32m-> 1277\u001b[1;33m         \u001b[0mX\u001b[0m \u001b[1;33m=\u001b[0m \u001b[0mcheck_array\u001b[0m\u001b[1;33m(\u001b[0m\u001b[0mX\u001b[0m\u001b[1;33m,\u001b[0m \u001b[0maccept_sparse\u001b[0m\u001b[1;33m=\u001b[0m\u001b[1;34m'csr'\u001b[0m\u001b[1;33m)\u001b[0m\u001b[1;33m\u001b[0m\u001b[1;33m\u001b[0m\u001b[0m\n\u001b[0m\u001b[0;32m   1278\u001b[0m \u001b[1;33m\u001b[0m\u001b[0m\n\u001b[0;32m   1279\u001b[0m         scores = safe_sparse_dot(X, self.coef_.T,\n",
      "\u001b[1;32m~\\anaconda3\\lib\\site-packages\\sklearn\\utils\\validation.py\u001b[0m in \u001b[0;36minner_f\u001b[1;34m(*args, **kwargs)\u001b[0m\n\u001b[0;32m     61\u001b[0m             \u001b[0mextra_args\u001b[0m \u001b[1;33m=\u001b[0m \u001b[0mlen\u001b[0m\u001b[1;33m(\u001b[0m\u001b[0margs\u001b[0m\u001b[1;33m)\u001b[0m \u001b[1;33m-\u001b[0m \u001b[0mlen\u001b[0m\u001b[1;33m(\u001b[0m\u001b[0mall_args\u001b[0m\u001b[1;33m)\u001b[0m\u001b[1;33m\u001b[0m\u001b[1;33m\u001b[0m\u001b[0m\n\u001b[0;32m     62\u001b[0m             \u001b[1;32mif\u001b[0m \u001b[0mextra_args\u001b[0m \u001b[1;33m<=\u001b[0m \u001b[1;36m0\u001b[0m\u001b[1;33m:\u001b[0m\u001b[1;33m\u001b[0m\u001b[1;33m\u001b[0m\u001b[0m\n\u001b[1;32m---> 63\u001b[1;33m                 \u001b[1;32mreturn\u001b[0m \u001b[0mf\u001b[0m\u001b[1;33m(\u001b[0m\u001b[1;33m*\u001b[0m\u001b[0margs\u001b[0m\u001b[1;33m,\u001b[0m \u001b[1;33m**\u001b[0m\u001b[0mkwargs\u001b[0m\u001b[1;33m)\u001b[0m\u001b[1;33m\u001b[0m\u001b[1;33m\u001b[0m\u001b[0m\n\u001b[0m\u001b[0;32m     64\u001b[0m \u001b[1;33m\u001b[0m\u001b[0m\n\u001b[0;32m     65\u001b[0m             \u001b[1;31m# extra_args > 0\u001b[0m\u001b[1;33m\u001b[0m\u001b[1;33m\u001b[0m\u001b[0m\n",
      "\u001b[1;32m~\\anaconda3\\lib\\site-packages\\sklearn\\utils\\validation.py\u001b[0m in \u001b[0;36mcheck_array\u001b[1;34m(array, accept_sparse, accept_large_sparse, dtype, order, copy, force_all_finite, ensure_2d, allow_nd, ensure_min_samples, ensure_min_features, estimator)\u001b[0m\n\u001b[0;32m    671\u001b[0m                     \u001b[0marray\u001b[0m \u001b[1;33m=\u001b[0m \u001b[0marray\u001b[0m\u001b[1;33m.\u001b[0m\u001b[0mastype\u001b[0m\u001b[1;33m(\u001b[0m\u001b[0mdtype\u001b[0m\u001b[1;33m,\u001b[0m \u001b[0mcasting\u001b[0m\u001b[1;33m=\u001b[0m\u001b[1;34m\"unsafe\"\u001b[0m\u001b[1;33m,\u001b[0m \u001b[0mcopy\u001b[0m\u001b[1;33m=\u001b[0m\u001b[1;32mFalse\u001b[0m\u001b[1;33m)\u001b[0m\u001b[1;33m\u001b[0m\u001b[1;33m\u001b[0m\u001b[0m\n\u001b[0;32m    672\u001b[0m                 \u001b[1;32melse\u001b[0m\u001b[1;33m:\u001b[0m\u001b[1;33m\u001b[0m\u001b[1;33m\u001b[0m\u001b[0m\n\u001b[1;32m--> 673\u001b[1;33m                     \u001b[0marray\u001b[0m \u001b[1;33m=\u001b[0m \u001b[0mnp\u001b[0m\u001b[1;33m.\u001b[0m\u001b[0masarray\u001b[0m\u001b[1;33m(\u001b[0m\u001b[0marray\u001b[0m\u001b[1;33m,\u001b[0m \u001b[0morder\u001b[0m\u001b[1;33m=\u001b[0m\u001b[0morder\u001b[0m\u001b[1;33m,\u001b[0m \u001b[0mdtype\u001b[0m\u001b[1;33m=\u001b[0m\u001b[0mdtype\u001b[0m\u001b[1;33m)\u001b[0m\u001b[1;33m\u001b[0m\u001b[1;33m\u001b[0m\u001b[0m\n\u001b[0m\u001b[0;32m    674\u001b[0m             \u001b[1;32mexcept\u001b[0m \u001b[0mComplexWarning\u001b[0m \u001b[1;32mas\u001b[0m \u001b[0mcomplex_warning\u001b[0m\u001b[1;33m:\u001b[0m\u001b[1;33m\u001b[0m\u001b[1;33m\u001b[0m\u001b[0m\n\u001b[0;32m    675\u001b[0m                 raise ValueError(\"Complex data not supported\\n\"\n",
      "\u001b[1;32m~\\anaconda3\\lib\\site-packages\\numpy\\core\\_asarray.py\u001b[0m in \u001b[0;36masarray\u001b[1;34m(a, dtype, order, like)\u001b[0m\n\u001b[0;32m    100\u001b[0m         \u001b[1;32mreturn\u001b[0m \u001b[0m_asarray_with_like\u001b[0m\u001b[1;33m(\u001b[0m\u001b[0ma\u001b[0m\u001b[1;33m,\u001b[0m \u001b[0mdtype\u001b[0m\u001b[1;33m=\u001b[0m\u001b[0mdtype\u001b[0m\u001b[1;33m,\u001b[0m \u001b[0morder\u001b[0m\u001b[1;33m=\u001b[0m\u001b[0morder\u001b[0m\u001b[1;33m,\u001b[0m \u001b[0mlike\u001b[0m\u001b[1;33m=\u001b[0m\u001b[0mlike\u001b[0m\u001b[1;33m)\u001b[0m\u001b[1;33m\u001b[0m\u001b[1;33m\u001b[0m\u001b[0m\n\u001b[0;32m    101\u001b[0m \u001b[1;33m\u001b[0m\u001b[0m\n\u001b[1;32m--> 102\u001b[1;33m     \u001b[1;32mreturn\u001b[0m \u001b[0marray\u001b[0m\u001b[1;33m(\u001b[0m\u001b[0ma\u001b[0m\u001b[1;33m,\u001b[0m \u001b[0mdtype\u001b[0m\u001b[1;33m,\u001b[0m \u001b[0mcopy\u001b[0m\u001b[1;33m=\u001b[0m\u001b[1;32mFalse\u001b[0m\u001b[1;33m,\u001b[0m \u001b[0morder\u001b[0m\u001b[1;33m=\u001b[0m\u001b[0morder\u001b[0m\u001b[1;33m)\u001b[0m\u001b[1;33m\u001b[0m\u001b[1;33m\u001b[0m\u001b[0m\n\u001b[0m\u001b[0;32m    103\u001b[0m \u001b[1;33m\u001b[0m\u001b[0m\n\u001b[0;32m    104\u001b[0m \u001b[1;33m\u001b[0m\u001b[0m\n",
      "\u001b[1;32m~\\anaconda3\\lib\\site-packages\\pandas\\core\\generic.py\u001b[0m in \u001b[0;36m__array__\u001b[1;34m(self, dtype)\u001b[0m\n\u001b[0;32m   1991\u001b[0m \u001b[1;33m\u001b[0m\u001b[0m\n\u001b[0;32m   1992\u001b[0m     \u001b[1;32mdef\u001b[0m \u001b[0m__array__\u001b[0m\u001b[1;33m(\u001b[0m\u001b[0mself\u001b[0m\u001b[1;33m,\u001b[0m \u001b[0mdtype\u001b[0m\u001b[1;33m:\u001b[0m \u001b[0mNpDtype\u001b[0m \u001b[1;33m|\u001b[0m \u001b[1;32mNone\u001b[0m \u001b[1;33m=\u001b[0m \u001b[1;32mNone\u001b[0m\u001b[1;33m)\u001b[0m \u001b[1;33m->\u001b[0m \u001b[0mnp\u001b[0m\u001b[1;33m.\u001b[0m\u001b[0mndarray\u001b[0m\u001b[1;33m:\u001b[0m\u001b[1;33m\u001b[0m\u001b[1;33m\u001b[0m\u001b[0m\n\u001b[1;32m-> 1993\u001b[1;33m         \u001b[1;32mreturn\u001b[0m \u001b[0mnp\u001b[0m\u001b[1;33m.\u001b[0m\u001b[0masarray\u001b[0m\u001b[1;33m(\u001b[0m\u001b[0mself\u001b[0m\u001b[1;33m.\u001b[0m\u001b[0m_values\u001b[0m\u001b[1;33m,\u001b[0m \u001b[0mdtype\u001b[0m\u001b[1;33m=\u001b[0m\u001b[0mdtype\u001b[0m\u001b[1;33m)\u001b[0m\u001b[1;33m\u001b[0m\u001b[1;33m\u001b[0m\u001b[0m\n\u001b[0m\u001b[0;32m   1994\u001b[0m \u001b[1;33m\u001b[0m\u001b[0m\n\u001b[0;32m   1995\u001b[0m     def __array_wrap__(\n",
      "\u001b[1;32m~\\anaconda3\\lib\\site-packages\\numpy\\core\\_asarray.py\u001b[0m in \u001b[0;36masarray\u001b[1;34m(a, dtype, order, like)\u001b[0m\n\u001b[0;32m    100\u001b[0m         \u001b[1;32mreturn\u001b[0m \u001b[0m_asarray_with_like\u001b[0m\u001b[1;33m(\u001b[0m\u001b[0ma\u001b[0m\u001b[1;33m,\u001b[0m \u001b[0mdtype\u001b[0m\u001b[1;33m=\u001b[0m\u001b[0mdtype\u001b[0m\u001b[1;33m,\u001b[0m \u001b[0morder\u001b[0m\u001b[1;33m=\u001b[0m\u001b[0morder\u001b[0m\u001b[1;33m,\u001b[0m \u001b[0mlike\u001b[0m\u001b[1;33m=\u001b[0m\u001b[0mlike\u001b[0m\u001b[1;33m)\u001b[0m\u001b[1;33m\u001b[0m\u001b[1;33m\u001b[0m\u001b[0m\n\u001b[0;32m    101\u001b[0m \u001b[1;33m\u001b[0m\u001b[0m\n\u001b[1;32m--> 102\u001b[1;33m     \u001b[1;32mreturn\u001b[0m \u001b[0marray\u001b[0m\u001b[1;33m(\u001b[0m\u001b[0ma\u001b[0m\u001b[1;33m,\u001b[0m \u001b[0mdtype\u001b[0m\u001b[1;33m,\u001b[0m \u001b[0mcopy\u001b[0m\u001b[1;33m=\u001b[0m\u001b[1;32mFalse\u001b[0m\u001b[1;33m,\u001b[0m \u001b[0morder\u001b[0m\u001b[1;33m=\u001b[0m\u001b[0morder\u001b[0m\u001b[1;33m)\u001b[0m\u001b[1;33m\u001b[0m\u001b[1;33m\u001b[0m\u001b[0m\n\u001b[0m\u001b[0;32m    103\u001b[0m \u001b[1;33m\u001b[0m\u001b[0m\n\u001b[0;32m    104\u001b[0m \u001b[1;33m\u001b[0m\u001b[0m\n",
      "\u001b[1;31mValueError\u001b[0m: could not convert string to float: '_1949'"
     ]
    }
   ],
   "source": [
    "SGDRegressor_pipe = Pipeline([\n",
    "    ('SGDRegressor', SGDRegressor())\n",
    "]).fit(X_train1, Y_train1)\n",
    "\n",
    "sgd_y_pred = SGDRegressor_pipe.predict(X_test)"
   ]
  },
  {
   "cell_type": "code",
   "execution_count": null,
   "id": "f86c0aa8",
   "metadata": {},
   "outputs": [],
   "source": [
    "secondPred = pd.DataFrame()\n",
    "secondPred['Id'] = test_df['Id']\n",
    "secondPred['SalePrice'] = sgd_y_pred"
   ]
  },
  {
   "cell_type": "code",
   "execution_count": null,
   "id": "6c10ee8b",
   "metadata": {},
   "outputs": [],
   "source": [
    "secondPred.to_csv('Second_Predictions.csv', index = False)"
   ]
  },
  {
   "cell_type": "markdown",
   "id": "2b3fa60e",
   "metadata": {},
   "source": [
    "### Result is 3.12961"
   ]
  },
  {
   "cell_type": "markdown",
   "id": "21c02614",
   "metadata": {},
   "source": [
    "# Ridge Regression using Orginal Unaltered Data "
   ]
  },
  {
   "cell_type": "code",
   "execution_count": 7,
   "id": "1df8400e",
   "metadata": {},
   "outputs": [],
   "source": [
    "X_train = trainFin.loc[:, trainFin.columns!='SalePrice']\n",
    "Y_train = trainFin['SalePrice']\n",
    "X_test = catToUseful(testFin)"
   ]
  },
  {
   "cell_type": "code",
   "execution_count": 16,
   "id": "7738a51e",
   "metadata": {},
   "outputs": [],
   "source": [
    "Ridge_pipe = Pipeline([\n",
    "    ('StandardScaler', StandardScaler()),\n",
    "    ('Ridge', Ridge())\n",
    "]).fit(X_train, Y_train)\n",
    "\n",
    "ridge_y_pred = Ridge_pipe.predict(X_test)"
   ]
  },
  {
   "cell_type": "code",
   "execution_count": 17,
   "id": "74e90a24",
   "metadata": {},
   "outputs": [],
   "source": [
    "third_pred = pd.DataFrame()\n",
    "third_pred['Id'] = X_test['Id']\n",
    "third_pred['SalePrice'] = ridge_y_pred"
   ]
  },
  {
   "cell_type": "code",
   "execution_count": 20,
   "id": "21257f4c",
   "metadata": {},
   "outputs": [],
   "source": [
    "third_pred.to_csv('Third_Prediction.csv', index = False)"
   ]
  },
  {
   "cell_type": "markdown",
   "id": "3fb1205c",
   "metadata": {},
   "source": [
    "### Result is Score: 0.46317 "
   ]
  }
 ],
 "metadata": {
  "kernelspec": {
   "display_name": "Python 3 (ipykernel)",
   "language": "python",
   "name": "python3"
  },
  "language_info": {
   "codemirror_mode": {
    "name": "ipython",
    "version": 3
   },
   "file_extension": ".py",
   "mimetype": "text/x-python",
   "name": "python",
   "nbconvert_exporter": "python",
   "pygments_lexer": "ipython3",
   "version": "3.9.7"
  }
 },
 "nbformat": 4,
 "nbformat_minor": 5
}
